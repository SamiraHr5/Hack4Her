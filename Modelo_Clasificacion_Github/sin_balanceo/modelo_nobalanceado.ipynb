{
 "cells": [
  {
   "cell_type": "code",
   "execution_count": 21,
   "id": "c829ff74",
   "metadata": {},
   "outputs": [],
   "source": [
    "import pandas as pd\n",
    "from sklearn.model_selection import train_test_split\n",
    "import matplotlib.pyplot as plt\n",
    "import seaborn as ssn\n",
    "from sklearn.impute import KNNImputer\n",
    "import numpy as np\n",
    "from sklearn.ensemble import RandomForestClassifier\n",
    "from sklearn.metrics import roc_curve, auc\n",
    "import matplotlib.pyplot as plt\n",
    "from sklearn.model_selection import cross_val_score\n",
    "from sklearn.metrics import make_scorer, roc_auc_score\n",
    "import joblib"
   ]
  },
  {
   "cell_type": "code",
   "execution_count": 22,
   "id": "c4d264ac",
   "metadata": {},
   "outputs": [],
   "source": [
    "df_warnings = pd.read_csv(r'C:\\Users\\REPO\\Tec2025\\HackForHer\\Datasets_Entrenamiento\\fallas_sin_feb.csv')\n",
    "df_nowarnings = pd.read_csv(r'C:\\Users\\REPO\\Tec2025\\HackForHer\\Datasets_Entrenamiento\\sinwarnings_sinfeb.csv')\n",
    "\n",
    "#df_nowarnings = pd.read_csv(r'C:\\Users\\REPO\\Tec2025\\HackForHer\\nowarning_complete.csv')\n",
    "\n",
    "df_warnings = df_warnings.drop(columns=['Unnamed: 0'], errors='ignore')  # elimina si existe\n",
    "df_warnings_positivos = df_warnings[df_warnings['Target'] == 1].copy()"
   ]
  },
  {
   "cell_type": "code",
   "execution_count": 23,
   "id": "0a59e346",
   "metadata": {},
   "outputs": [
    {
     "data": {
      "text/html": [
       "<div>\n",
       "<style scoped>\n",
       "    .dataframe tbody tr th:only-of-type {\n",
       "        vertical-align: middle;\n",
       "    }\n",
       "\n",
       "    .dataframe tbody tr th {\n",
       "        vertical-align: top;\n",
       "    }\n",
       "\n",
       "    .dataframe thead th {\n",
       "        text-align: right;\n",
       "    }\n",
       "</style>\n",
       "<table border=\"1\" class=\"dataframe\">\n",
       "  <thead>\n",
       "    <tr style=\"text-align: right;\">\n",
       "      <th></th>\n",
       "      <th>door_opens</th>\n",
       "      <th>open_time</th>\n",
       "      <th>compressor</th>\n",
       "      <th>power</th>\n",
       "      <th>on_time</th>\n",
       "      <th>min_voltage</th>\n",
       "      <th>max_voltage</th>\n",
       "      <th>temperature</th>\n",
       "      <th>calday</th>\n",
       "      <th>warning</th>\n",
       "      <th>year</th>\n",
       "      <th>month</th>\n",
       "      <th>Target</th>\n",
       "      <th>Motive</th>\n",
       "    </tr>\n",
       "  </thead>\n",
       "  <tbody>\n",
       "    <tr>\n",
       "      <th>0</th>\n",
       "      <td>34.0</td>\n",
       "      <td>1.0</td>\n",
       "      <td>46.1020</td>\n",
       "      <td>2.8333</td>\n",
       "      <td>24.0</td>\n",
       "      <td>110.0</td>\n",
       "      <td>130.0</td>\n",
       "      <td>4.8163</td>\n",
       "      <td>NaN</td>\n",
       "      <td>1</td>\n",
       "      <td>2024.0</td>\n",
       "      <td>3.0</td>\n",
       "      <td>0</td>\n",
       "      <td>temperature</td>\n",
       "    </tr>\n",
       "    <tr>\n",
       "      <th>1</th>\n",
       "      <td>27.0</td>\n",
       "      <td>13.0</td>\n",
       "      <td>40.4286</td>\n",
       "      <td>0.0000</td>\n",
       "      <td>24.0</td>\n",
       "      <td>110.0</td>\n",
       "      <td>130.0</td>\n",
       "      <td>5.4878</td>\n",
       "      <td>NaN</td>\n",
       "      <td>1</td>\n",
       "      <td>2024.0</td>\n",
       "      <td>3.0</td>\n",
       "      <td>0</td>\n",
       "      <td>temperature</td>\n",
       "    </tr>\n",
       "    <tr>\n",
       "      <th>2</th>\n",
       "      <td>27.0</td>\n",
       "      <td>1.0</td>\n",
       "      <td>31.3061</td>\n",
       "      <td>1.0833</td>\n",
       "      <td>24.0</td>\n",
       "      <td>108.0</td>\n",
       "      <td>130.0</td>\n",
       "      <td>5.0571</td>\n",
       "      <td>NaN</td>\n",
       "      <td>1</td>\n",
       "      <td>2024.0</td>\n",
       "      <td>3.0</td>\n",
       "      <td>0</td>\n",
       "      <td>temperature</td>\n",
       "    </tr>\n",
       "    <tr>\n",
       "      <th>3</th>\n",
       "      <td>51.0</td>\n",
       "      <td>37.0</td>\n",
       "      <td>32.0200</td>\n",
       "      <td>3.1667</td>\n",
       "      <td>24.0</td>\n",
       "      <td>110.0</td>\n",
       "      <td>124.0</td>\n",
       "      <td>5.0300</td>\n",
       "      <td>NaN</td>\n",
       "      <td>1</td>\n",
       "      <td>2024.0</td>\n",
       "      <td>3.0</td>\n",
       "      <td>0</td>\n",
       "      <td>temperature</td>\n",
       "    </tr>\n",
       "    <tr>\n",
       "      <th>4</th>\n",
       "      <td>51.0</td>\n",
       "      <td>4.0</td>\n",
       "      <td>28.6000</td>\n",
       "      <td>3.2500</td>\n",
       "      <td>24.0</td>\n",
       "      <td>106.0</td>\n",
       "      <td>130.0</td>\n",
       "      <td>3.8940</td>\n",
       "      <td>NaN</td>\n",
       "      <td>1</td>\n",
       "      <td>2024.0</td>\n",
       "      <td>3.0</td>\n",
       "      <td>0</td>\n",
       "      <td>temperature</td>\n",
       "    </tr>\n",
       "    <tr>\n",
       "      <th>...</th>\n",
       "      <td>...</td>\n",
       "      <td>...</td>\n",
       "      <td>...</td>\n",
       "      <td>...</td>\n",
       "      <td>...</td>\n",
       "      <td>...</td>\n",
       "      <td>...</td>\n",
       "      <td>...</td>\n",
       "      <td>...</td>\n",
       "      <td>...</td>\n",
       "      <td>...</td>\n",
       "      <td>...</td>\n",
       "      <td>...</td>\n",
       "      <td>...</td>\n",
       "    </tr>\n",
       "    <tr>\n",
       "      <th>5797</th>\n",
       "      <td>2.0</td>\n",
       "      <td>0.0</td>\n",
       "      <td>19.3333</td>\n",
       "      <td>0.0000</td>\n",
       "      <td>9.0</td>\n",
       "      <td>102.0</td>\n",
       "      <td>130.0</td>\n",
       "      <td>5.8944</td>\n",
       "      <td>12/28/2024</td>\n",
       "      <td>0</td>\n",
       "      <td>NaN</td>\n",
       "      <td>NaN</td>\n",
       "      <td>0</td>\n",
       "      <td>NaN</td>\n",
       "    </tr>\n",
       "    <tr>\n",
       "      <th>5798</th>\n",
       "      <td>NaN</td>\n",
       "      <td>0.0</td>\n",
       "      <td>NaN</td>\n",
       "      <td>NaN</td>\n",
       "      <td>24.0</td>\n",
       "      <td>NaN</td>\n",
       "      <td>NaN</td>\n",
       "      <td>NaN</td>\n",
       "      <td>11/6/2024</td>\n",
       "      <td>0</td>\n",
       "      <td>NaN</td>\n",
       "      <td>NaN</td>\n",
       "      <td>0</td>\n",
       "      <td>NaN</td>\n",
       "    </tr>\n",
       "    <tr>\n",
       "      <th>5799</th>\n",
       "      <td>115.0</td>\n",
       "      <td>14.0</td>\n",
       "      <td>34.8542</td>\n",
       "      <td>0.0000</td>\n",
       "      <td>24.0</td>\n",
       "      <td>102.0</td>\n",
       "      <td>132.0</td>\n",
       "      <td>5.1583</td>\n",
       "      <td>4/20/2025</td>\n",
       "      <td>0</td>\n",
       "      <td>NaN</td>\n",
       "      <td>NaN</td>\n",
       "      <td>0</td>\n",
       "      <td>NaN</td>\n",
       "    </tr>\n",
       "    <tr>\n",
       "      <th>5800</th>\n",
       "      <td>123.0</td>\n",
       "      <td>14.0</td>\n",
       "      <td>48.6458</td>\n",
       "      <td>0.0000</td>\n",
       "      <td>24.0</td>\n",
       "      <td>98.0</td>\n",
       "      <td>132.0</td>\n",
       "      <td>3.7500</td>\n",
       "      <td>4/19/2025</td>\n",
       "      <td>0</td>\n",
       "      <td>NaN</td>\n",
       "      <td>NaN</td>\n",
       "      <td>0</td>\n",
       "      <td>NaN</td>\n",
       "    </tr>\n",
       "    <tr>\n",
       "      <th>5801</th>\n",
       "      <td>5.0</td>\n",
       "      <td>0.0</td>\n",
       "      <td>17.2400</td>\n",
       "      <td>0.0000</td>\n",
       "      <td>12.5</td>\n",
       "      <td>98.0</td>\n",
       "      <td>128.0</td>\n",
       "      <td>5.0400</td>\n",
       "      <td>12/11/2024</td>\n",
       "      <td>0</td>\n",
       "      <td>NaN</td>\n",
       "      <td>NaN</td>\n",
       "      <td>0</td>\n",
       "      <td>NaN</td>\n",
       "    </tr>\n",
       "  </tbody>\n",
       "</table>\n",
       "<p>5802 rows × 14 columns</p>\n",
       "</div>"
      ],
      "text/plain": [
       "      door_opens  open_time  compressor   power  on_time  min_voltage  \\\n",
       "0           34.0        1.0     46.1020  2.8333     24.0        110.0   \n",
       "1           27.0       13.0     40.4286  0.0000     24.0        110.0   \n",
       "2           27.0        1.0     31.3061  1.0833     24.0        108.0   \n",
       "3           51.0       37.0     32.0200  3.1667     24.0        110.0   \n",
       "4           51.0        4.0     28.6000  3.2500     24.0        106.0   \n",
       "...          ...        ...         ...     ...      ...          ...   \n",
       "5797         2.0        0.0     19.3333  0.0000      9.0        102.0   \n",
       "5798         NaN        0.0         NaN     NaN     24.0          NaN   \n",
       "5799       115.0       14.0     34.8542  0.0000     24.0        102.0   \n",
       "5800       123.0       14.0     48.6458  0.0000     24.0         98.0   \n",
       "5801         5.0        0.0     17.2400  0.0000     12.5         98.0   \n",
       "\n",
       "      max_voltage  temperature      calday  warning    year  month  Target  \\\n",
       "0           130.0       4.8163         NaN        1  2024.0    3.0       0   \n",
       "1           130.0       5.4878         NaN        1  2024.0    3.0       0   \n",
       "2           130.0       5.0571         NaN        1  2024.0    3.0       0   \n",
       "3           124.0       5.0300         NaN        1  2024.0    3.0       0   \n",
       "4           130.0       3.8940         NaN        1  2024.0    3.0       0   \n",
       "...           ...          ...         ...      ...     ...    ...     ...   \n",
       "5797        130.0       5.8944  12/28/2024        0     NaN    NaN       0   \n",
       "5798          NaN          NaN   11/6/2024        0     NaN    NaN       0   \n",
       "5799        132.0       5.1583   4/20/2025        0     NaN    NaN       0   \n",
       "5800        132.0       3.7500   4/19/2025        0     NaN    NaN       0   \n",
       "5801        128.0       5.0400  12/11/2024        0     NaN    NaN       0   \n",
       "\n",
       "           Motive  \n",
       "0     temperature  \n",
       "1     temperature  \n",
       "2     temperature  \n",
       "3     temperature  \n",
       "4     temperature  \n",
       "...           ...  \n",
       "5797          NaN  \n",
       "5798          NaN  \n",
       "5799          NaN  \n",
       "5800          NaN  \n",
       "5801          NaN  \n",
       "\n",
       "[5802 rows x 14 columns]"
      ]
     },
     "execution_count": 23,
     "metadata": {},
     "output_type": "execute_result"
    }
   ],
   "source": [
    "df_unidos = pd.concat(\n",
    "    [df_warnings, df_nowarnings],\n",
    "    axis=0,  # vertical\n",
    "    ignore_index=True\n",
    ")\n",
    "df_unidos.drop(columns=['cooler_id'], errors='ignore')"
   ]
  },
  {
   "cell_type": "code",
   "execution_count": 24,
   "id": "cff50328",
   "metadata": {},
   "outputs": [],
   "source": [
    "X = df_unidos.drop(columns='Target')\n",
    "y = df_unidos['Target']\n",
    "X_train, X_test, y_train, y_test = train_test_split(X, y, test_size=0.33, random_state=42 )"
   ]
  },
  {
   "cell_type": "code",
   "execution_count": 25,
   "id": "d26e0fc2",
   "metadata": {},
   "outputs": [
    {
     "name": "stdout",
     "output_type": "stream",
     "text": [
      "\n",
      "Proporción en y_train:\n",
      "Target\n",
      "0    0.78158\n",
      "1    0.21842\n",
      "Name: proportion, dtype: float64\n",
      "\n",
      "Proporción en y_test:\n",
      "Target\n",
      "0    0.778068\n",
      "1    0.221932\n",
      "Name: proportion, dtype: float64\n"
     ]
    }
   ],
   "source": [
    "# Proporciones por clases\n",
    "print(\"\\nProporción en y_train:\")\n",
    "print(y_train.value_counts(normalize=True))\n",
    "\n",
    "print(\"\\nProporción en y_test:\")\n",
    "print(y_test.value_counts(normalize=True))\n"
   ]
  },
  {
   "cell_type": "code",
   "execution_count": 26,
   "id": "f1c58312",
   "metadata": {},
   "outputs": [],
   "source": [
    "X_train = X_train.drop(columns=X_train.select_dtypes(include='object').columns, errors='ignore').copy()\n",
    "X_test = X_test.drop(columns=X_test.select_dtypes(include='object').columns, errors='ignore').copy()\n"
   ]
  },
  {
   "cell_type": "code",
   "execution_count": 27,
   "id": "1ac945e6",
   "metadata": {},
   "outputs": [],
   "source": [
    "model = RandomForestClassifier()\n",
    "model.fit(X_train, y_train)\n",
    "pred = model.predict(X_test)\n",
    "'''pred_train = model.predict(X_train)'''\n",
    "prob = model.predict_proba(X_test)[:, 1]"
   ]
  },
  {
   "cell_type": "code",
   "execution_count": 28,
   "id": "14893f29",
   "metadata": {},
   "outputs": [
    {
     "name": "stdout",
     "output_type": "stream",
     "text": [
      "[0.         0.05       0.         ... 0.86633333 0.165      0.        ]\n"
     ]
    }
   ],
   "source": [
    "print(prob)"
   ]
  },
  {
   "cell_type": "code",
   "execution_count": 29,
   "id": "f2c3e846",
   "metadata": {},
   "outputs": [
    {
     "name": "stdout",
     "output_type": "stream",
     "text": [
      "[[1393   97]\n",
      " [ 122  303]]\n"
     ]
    }
   ],
   "source": [
    "from sklearn.metrics import confusion_matrix\n",
    "\n",
    "cm = confusion_matrix(y_test, pred)\n",
    "print(cm)"
   ]
  },
  {
   "cell_type": "code",
   "execution_count": 30,
   "id": "6141c83e",
   "metadata": {},
   "outputs": [
    {
     "data": {
      "text/plain": [
       "'cm_train = confusion_matrix(y_train, pred_train)\\nprint(cm_train)'"
      ]
     },
     "execution_count": 30,
     "metadata": {},
     "output_type": "execute_result"
    }
   ],
   "source": [
    "'''cm_train = confusion_matrix(y_train, pred_train)\n",
    "print(cm_train)'''"
   ]
  },
  {
   "cell_type": "code",
   "execution_count": 31,
   "id": "e011b063",
   "metadata": {},
   "outputs": [
    {
     "data": {
      "image/png": "[encoded data removed]",
      "text/plain": [
       "<Figure size 640x480 with 2 Axes>"
      ]
     },
     "metadata": {},
     "output_type": "display_data"
    }
   ],
   "source": [
    "import seaborn as sns\n",
    "import matplotlib.pyplot as plt\n",
    "\n",
    "sns.heatmap(cm, annot=True, fmt='d', cmap='Blues')\n",
    "plt.xlabel(\"Predicción\")\n",
    "plt.ylabel(\"Real\")\n",
    "plt.title(\"Matriz de Confusión\")\n",
    "plt.show()\n"
   ]
  },
  {
   "cell_type": "code",
   "execution_count": 32,
   "id": "d15f4513",
   "metadata": {},
   "outputs": [
    {
     "name": "stdout",
     "output_type": "stream",
     "text": [
      "              precision    recall  f1-score   support\n",
      "\n",
      "           0       0.92      0.93      0.93      1490\n",
      "           1       0.76      0.71      0.73       425\n",
      "\n",
      "    accuracy                           0.89      1915\n",
      "   macro avg       0.84      0.82      0.83      1915\n",
      "weighted avg       0.88      0.89      0.88      1915\n",
      "\n"
     ]
    }
   ],
   "source": [
    "from sklearn.metrics import classification_report\n",
    "\n",
    "print(classification_report(y_test, pred))\n"
   ]
  },
  {
   "cell_type": "code",
   "execution_count": 33,
   "id": "1ec32c26",
   "metadata": {},
   "outputs": [
    {
     "data": {
      "image/png": "[encoded data removed]",
      "text/plain": [
       "<Figure size 640x480 with 1 Axes>"
      ]
     },
     "metadata": {},
     "output_type": "display_data"
    }
   ],
   "source": [
    "fpr, tpr, thresholds = roc_curve(y_test, prob)\n",
    "roc_auc = auc(fpr, tpr)\n",
    "\n",
    "# Gráfico\n",
    "plt.figure()\n",
    "plt.plot(fpr, tpr, label=f'ROC curve (AUC = {roc_auc:.2f})')\n",
    "plt.plot([0, 1], [0, 1], 'k--', label='Random model')\n",
    "plt.xlim([0.0, 1.0])\n",
    "plt.ylim([0.0, 1.05])\n",
    "plt.xlabel('Tasa de Falsos Positivos (FPR)')\n",
    "plt.ylabel('Tasa de Verdaderos Positivos (TPR)')\n",
    "plt.title('Curva ROC - Modelo de Clasificación')\n",
    "plt.legend(loc=\"lower right\")\n",
    "plt.grid(True)\n",
    "plt.show()\n"
   ]
  },
  {
   "cell_type": "code",
   "execution_count": 34,
   "id": "afe0321d",
   "metadata": {},
   "outputs": [
    {
     "data": {
      "text/plain": [
       "'fpr_train, tpr_train, thresholds_train = roc_curve(y_train, pred_train)\\nroc_auc_train = auc(fpr_train, tpr_train)\\n# Gráfico\\nplt.figure()\\nplt.plot(fpr_train, tpr_train, label=f\\'ROC curve (AUC = {roc_auc_train:.2f})\\')\\nplt.plot([0, 1], [0, 1], \\'k--\\', label=\\'Random model\\')\\nplt.xlim([0.0, 1.0])\\nplt.ylim([0.0, 1.05])\\nplt.xlabel(\\'Tasa de Falsos Positivos (FPR)\\')\\nplt.ylabel(\\'Tasa de Verdaderos Positivos (TPR)\\')\\nplt.title(\\'Curva ROC - Modelo de Clasificación\\')\\nplt.legend(loc=\"lower right\")\\nplt.grid(True)\\nplt.show()\\n'"
      ]
     },
     "execution_count": 34,
     "metadata": {},
     "output_type": "execute_result"
    }
   ],
   "source": [
    "'''fpr_train, tpr_train, thresholds_train = roc_curve(y_train, pred_train)\n",
    "roc_auc_train = auc(fpr_train, tpr_train)\n",
    "# Gráfico\n",
    "plt.figure()\n",
    "plt.plot(fpr_train, tpr_train, label=f'ROC curve (AUC = {roc_auc_train:.2f})')\n",
    "plt.plot([0, 1], [0, 1], 'k--', label='Random model')\n",
    "plt.xlim([0.0, 1.0])\n",
    "plt.ylim([0.0, 1.05])\n",
    "plt.xlabel('Tasa de Falsos Positivos (FPR)')\n",
    "plt.ylabel('Tasa de Verdaderos Positivos (TPR)')\n",
    "plt.title('Curva ROC - Modelo de Clasificación')\n",
    "plt.legend(loc=\"lower right\")\n",
    "plt.grid(True)\n",
    "plt.show()\n",
    "'''"
   ]
  },
  {
   "cell_type": "code",
   "execution_count": 35,
   "id": "9fdac999",
   "metadata": {},
   "outputs": [
    {
     "name": "stdout",
     "output_type": "stream",
     "text": [
      "AUC promedio: 0.922\n",
      "AUC por fold: [0.95558257 0.77147144 0.93127184 0.94204863 0.83712259 0.97617806\n",
      " 0.95472006 0.99974796 0.94334209 0.91306865]\n"
     ]
    }
   ],
   "source": [
    "# Usamos AUC como métrica\n",
    "X = X.drop(columns=X.select_dtypes(include='object').columns, errors='ignore').copy()\n",
    "auc_scores = cross_val_score(model, X, y, \n",
    "                             cv=10, \n",
    "                             scoring='roc_auc')  # usa 'accuracy', 'recall', etc. si prefieres otra métrica\n",
    "\n",
    "print(f\"AUC promedio: {auc_scores.mean():.3f}\")\n",
    "print(f\"AUC por fold: {auc_scores}\")"
   ]
  },
  {
   "cell_type": "code",
   "execution_count": 36,
   "id": "e6305531",
   "metadata": {},
   "outputs": [
    {
     "data": {
      "text/plain": [
       "['modelo_sinimputar.pkl']"
      ]
     },
     "execution_count": 36,
     "metadata": {},
     "output_type": "execute_result"
    }
   ],
   "source": [
    "joblib.dump(model, 'modelo_sinimputar.pkl')  # Puedes cambiar el nombre del archivo"
   ]
  }
 ],
 "metadata": {
  "kernelspec": {
   "display_name": "Python 3",
   "language": "python",
   "name": "python3"
  },
  "language_info": {
   "codemirror_mode": {
    "name": "ipython",
    "version": 3
   },
   "file_extension": ".py",
   "mimetype": "text/x-python",
   "name": "python",
   "nbconvert_exporter": "python",
   "pygments_lexer": "ipython3",
   "version": "3.10.0"
  }
 },
 "nbformat": 4,
 "nbformat_minor": 5
}
