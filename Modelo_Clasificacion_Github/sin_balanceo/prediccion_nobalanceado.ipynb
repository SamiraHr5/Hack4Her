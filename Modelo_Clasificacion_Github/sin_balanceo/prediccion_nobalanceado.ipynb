{
 "cells": [
  {
   "cell_type": "code",
   "execution_count": 44,
   "id": "4ce2f639",
   "metadata": {},
   "outputs": [],
   "source": [
    "import joblib\n",
    "import pandas as pd\n",
    "import numpy as np"
   ]
  },
  {
   "cell_type": "markdown",
   "id": "c4dd7b6f",
   "metadata": {},
   "source": [
    "# PREDICCION ABRIL"
   ]
  },
  {
   "cell_type": "code",
   "execution_count": 54,
   "id": "fa8d19bf",
   "metadata": {},
   "outputs": [],
   "source": [
    "# nuevos datos\n",
    "abril = pd.read_csv(r'C:\\Users\\REPO\\Tec2025\\HackForHer\\datos_marzo.csv')"
   ]
  },
  {
   "cell_type": "code",
   "execution_count": 56,
   "id": "bf59e776",
   "metadata": {},
   "outputs": [],
   "source": [
    "# Cargar modelo y scaler\n",
    "model = joblib.load('modelo_sinimputar.pkl')\n",
    "\n",
    "# Preprocesamiento (ejemplo)\n",
    "# Guardar el ID en una variable separada\n",
    "ids = abril[['cooler_id']].copy()\n",
    "\n",
    "nuevos = abril[['door_opens', 'open_time', 'compressor', 'power',\n",
    "       'on_time', 'min_voltage', 'max_voltage', 'temperature',\n",
    "       'warning', 'year', 'month']]  # Asegúrate de que solo estén los features que entrenaste\n",
    "\n",
    "# Predecir\n",
    "pred = model.predict(nuevos)\n",
    "proba = model.predict_proba(nuevos)[:, 1]\n",
    "\n",
    "# Unir resultados con el ID\n",
    "resultado = abril.copy()\n",
    "resultado['pred'] = pred\n",
    "resultado['proba'] = proba"
   ]
  },
  {
   "cell_type": "code",
   "execution_count": 53,
   "id": "24e68a44",
   "metadata": {},
   "outputs": [],
   "source": [
    "resultado.to_csv(\"predicciones_abril.csv\")"
   ]
  },
  {
   "cell_type": "markdown",
   "id": "67b56718",
   "metadata": {},
   "source": [
    "# Prediccion MAYO"
   ]
  },
  {
   "cell_type": "code",
   "execution_count": 57,
   "id": "71c6faa8",
   "metadata": {},
   "outputs": [],
   "source": [
    "mayo = resultado.copy()\n",
    "ids = mayo[['cooler_id']].copy()\n",
    "\n",
    "nuevos_mayo = mayo[['door_opens', 'open_time', 'compressor', 'power',\n",
    "       'on_time', 'min_voltage', 'max_voltage', 'temperature',\n",
    "       'warning', 'year', 'month']]  # Asegúrate de que solo estén los features que entrenaste\n",
    "\n",
    "# Predecir\n",
    "pred_mayo = model.predict(nuevos_mayo)\n",
    "proba_mayo = model.predict_proba(nuevos_mayo)[:, 1]\n",
    "\n",
    "# Unir resultados con el ID\n",
    "resultado_mayo = mayo.copy()\n",
    "resultado_mayo['pred'] = pred_mayo\n",
    "resultado_mayo['proba'] = proba"
   ]
  },
  {
   "cell_type": "code",
   "execution_count": 58,
   "id": "de3df98c",
   "metadata": {},
   "outputs": [
    {
     "name": "stdout",
     "output_type": "stream",
     "text": [
      "                                           cooler_id  pred     proba\n",
      "0  767436ca4a132715e8fe6cff5ad1f2facbf0584aafd715...     0  0.181667\n",
      "1  767436ca4a132715e8fe6cff5ad1f2facbf0584aafd715...     0  0.130000\n",
      "2  1a7da0241d9242b0ae9f019085d7114ff80976dbea5954...     0  0.161786\n",
      "3  1a7da0241d9242b0ae9f019085d7114ff80976dbea5954...     0  0.231786\n",
      "4  1a7da0241d9242b0ae9f019085d7114ff80976dbea5954...     0  0.276786\n"
     ]
    }
   ],
   "source": [
    "# Ahora tienes predicciones con el cooler_id preservado\n",
    "print(resultado_mayo[['cooler_id', 'pred', 'proba']].head())"
   ]
  },
  {
   "cell_type": "markdown",
   "id": "d020d20c",
   "metadata": {},
   "source": [
    "teniendo la probabilidad diaria, puedo usar probabilidad complementaria para encontrar la proba mensual"
   ]
  },
  {
   "cell_type": "code",
   "execution_count": 61,
   "id": "6b692612",
   "metadata": {},
   "outputs": [
    {
     "name": "stdout",
     "output_type": "stream",
     "text": [
      "                                           cooler_id  proba_mensual\n",
      "0  0016ec5ff0bab59a840bfb35f19432270b06e821b6807f...       0.984959\n",
      "1  00190192bd70e98a2399c87c883f9abd122ddf1ea91515...       0.624725\n",
      "2  001eacd5c959eff51b42e8855473e89be89b46e8a5d0d8...       0.797904\n",
      "3  0025f7d0ed62936e9107af28a61d68a8a34606d1690dab...       0.912829\n",
      "4  0026be8ea32cc11fe427ed626def3096f35d0fbdb4da1c...       0.683571\n"
     ]
    }
   ],
   "source": [
    "# Calcular probabilidad mensual por cooler_id\n",
    "proba_mensual = resultado_mayo.groupby('cooler_id')['proba'].apply(lambda p: 1 - np.prod(1 - p))\n",
    "\n",
    "# Convertir a DataFrame si deseas exportarlo o analizarlo\n",
    "proba_mensual_df = proba_mensual.reset_index(name='proba_mensual')\n",
    "\n",
    "# Mostrar resultado\n",
    "print(proba_mensual_df.head())\n",
    "\n",
    "proba_mensual_df.to_csv('probabilidad.csv')\n"
   ]
  }
 ],
 "metadata": {
  "kernelspec": {
   "display_name": "Python 3",
   "language": "python",
   "name": "python3"
  },
  "language_info": {
   "codemirror_mode": {
    "name": "ipython",
    "version": 3
   },
   "file_extension": ".py",
   "mimetype": "text/x-python",
   "name": "python",
   "nbconvert_exporter": "python",
   "pygments_lexer": "ipython3",
   "version": "3.10.0"
  }
 },
 "nbformat": 4,
 "nbformat_minor": 5
}
